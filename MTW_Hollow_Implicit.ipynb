{
 "cells": [
  {
   "cell_type": "code",
   "execution_count": 1,
   "metadata": {},
   "outputs": [],
   "source": [
    "import pandas as pd\n",
    "import numpy as np\n",
    "import matplotlib.pyplot as plt\n",
    "import time as tm"
   ]
  },
  {
   "cell_type": "markdown",
   "metadata": {},
   "source": [
    "# Input Data"
   ]
  },
  {
   "cell_type": "code",
   "execution_count": 2,
   "metadata": {},
   "outputs": [],
   "source": [
    "# Importing the Data related to the Environmental Conditions at the Exterior Surface\n",
    "data_ext = pd.read_excel(\"D:\\PHD-RESEARCH\\Results\\Timber Moisture Transport\\Script (Python)\\RELATIVEHUMIDITY9.xlsx\",sheet_name=\"Sheet1\",index_col=None,header=0).to_numpy()\n",
    "# Importing the Data related to the Environmental Conditions at the Interior Surface\n",
    "data_int = pd.read_excel(\"D:\\PHD-RESEARCH\\Results\\Timber Moisture Transport\\Script (Python)\\RELATIVEHUMIDITY9.xlsx\",sheet_name=\"Sheet2\",index_col=None,header=0).to_numpy()\n",
    "# Total Number of Rows from the Imported Data\n",
    "Nrow = len(data_ext)\n",
    "# Time \n",
    "TimeD = np.zeros((Nrow,1)) # (day)\n",
    "for i in range(0,Nrow):\n",
    "    TimeD[i] = data_ext[i,0]\n",
    "# Environmental Temperature at the Exterior Surface\n",
    "TempC_ext = np.zeros((Nrow,1)) # (degrees Celsius)\n",
    "for i in range(0,Nrow):\n",
    "    TempC_ext[i] = data_ext[i,1]\n",
    "# Environmental Temperature at the Interior Surface\n",
    "TempC_int = np.zeros((Nrow,1)) # (degrees Celsius)\n",
    "for i in range(0,Nrow):\n",
    "    TempC_int[i] = data_int[i,1]\n",
    "# Environmental Relative Humidity at the Exterior Surface\n",
    "RHum_ext = np.zeros((Nrow,1)) # (percentage)\n",
    "for i in range(0,Nrow):\n",
    "    RHum_ext[i] = data_ext[i,2]\n",
    "# Environmental Relative Humidity at the Interior Surface\n",
    "RHum_int = np.zeros((Nrow,1)) # (percentage)\n",
    "for i in range(0,Nrow):\n",
    "    RHum_int[i] = data_int[i,2]\n",
    "# Equilibrium Moisture Content\n",
    "UHum_ext = np.zeros((Nrow,1)) # (percentage)\n",
    "for i in range(0,Nrow):\n",
    "    UHum_ext[i] = data_ext[i,3]\n",
    "# Equilibrium Moisture Content\n",
    "UHum_int = np.zeros((Nrow,1)) # (percentage)\n",
    "for i in range(0,Nrow):\n",
    "    UHum_int[i] = data_int[i,3]\n",
    "# Time Step\n",
    "DT = max(TimeD)/(len(TimeD)-1) # day\n",
    "# Geometry of the Section\n",
    "H = 8.9 # Height (cm)\n",
    "W = 8.9 # Width  (cm)\n",
    "tv = 1.78 # Vertical Thickness   (cm) \n",
    "th = 1.78 # Horizontal Thickness (cm)\n",
    "# Initial Moisture Content\n",
    "Moisture_0 = 0.108282179\n",
    "# Discretization of the Section\n",
    "nx = 20\n",
    "ny = 20"
   ]
  },
  {
   "cell_type": "markdown",
   "metadata": {},
   "source": [
    "# Input Local Functions"
   ]
  },
  {
   "cell_type": "code",
   "execution_count": 3,
   "metadata": {},
   "outputs": [],
   "source": [
    "# Diffusion coefficient in x-direction \n",
    "def Diffx(Moisture):\n",
    "    Coefficient_x = 0.10368*(np.exp(2.28*Moisture)) # (cm^2/day) \n",
    "    return Coefficient_x"
   ]
  },
  {
   "cell_type": "code",
   "execution_count": 4,
   "metadata": {},
   "outputs": [],
   "source": [
    "# Diffusion coefficient in y-direction \n",
    "def Diffy(Moisture):\n",
    "    Coefficient_y = 0.10368*(np.exp(2.28*Moisture)) # (cm^2/day) \n",
    "    return Coefficient_y"
   ]
  },
  {
   "cell_type": "code",
   "execution_count": 5,
   "metadata": {},
   "outputs": [],
   "source": [
    "# Surface Emissivity at the Right-Hand Side of the Exterior Boundary\n",
    "def Sxr_ext(Moisture):\n",
    "    Coefficient_xr_ext = 1.1232 # (cm/day) \n",
    "    return Coefficient_xr_ext"
   ]
  },
  {
   "cell_type": "code",
   "execution_count": 6,
   "metadata": {},
   "outputs": [],
   "source": [
    "# Surface Emissivity at the Left-Hand Side of the Exterior Boundary \n",
    "def Sxl_ext(Moisture):\n",
    "    Coefficient_xl_ext = 1.1232 # (cm/day) \n",
    "    return Coefficient_xl_ext"
   ]
  },
  {
   "cell_type": "code",
   "execution_count": 7,
   "metadata": {},
   "outputs": [],
   "source": [
    "# Surface Emissivity at the Top Boundary of the Exterior Boundary\n",
    "def Syt_ext(Moisture):\n",
    "    Coefficient_yt_ext = 1.1232 # (cm/day) \n",
    "    return Coefficient_yt_ext"
   ]
  },
  {
   "cell_type": "code",
   "execution_count": 8,
   "metadata": {},
   "outputs": [],
   "source": [
    "# Surface Emissivity at the Bottom Boundary of the Exterior Boundary\n",
    "def Syb_ext(Moisture):\n",
    "    Coefficient_yb_ext = 1.1232 # (cm/day) \n",
    "    return Coefficient_yb_ext"
   ]
  },
  {
   "cell_type": "code",
   "execution_count": 9,
   "metadata": {},
   "outputs": [],
   "source": [
    "# Surface Emissivity at the Right-Hand Side of the Interior Boundary\n",
    "def Sxr_int(Moisture):\n",
    "    Coefficient_xr_int = 1.1232 # (cm/day) \n",
    "    return Coefficient_xr_int"
   ]
  },
  {
   "cell_type": "code",
   "execution_count": 10,
   "metadata": {},
   "outputs": [],
   "source": [
    "# Surface Emissivity at the Left-Hand Side of the Interior Boundary \n",
    "def Sxl_int(Moisture):\n",
    "    Coefficient_xl_int = 1.1232 # (cm/day) \n",
    "    return Coefficient_xl_int"
   ]
  },
  {
   "cell_type": "code",
   "execution_count": 11,
   "metadata": {},
   "outputs": [],
   "source": [
    "# Surface Emissivity at the Top Boundary of the Interior Boundary\n",
    "def Syt_int(Moisture):\n",
    "    Coefficient_yt_int = 1.1232 # (cm/day) \n",
    "    return Coefficient_yt_int"
   ]
  },
  {
   "cell_type": "code",
   "execution_count": 12,
   "metadata": {},
   "outputs": [],
   "source": [
    "# Surface Emissivity at the Bottom Boundary of the Interior Boundary\n",
    "def Syb_int(Moisture):\n",
    "    Coefficient_yb_int = 1.1232 # (cm/day) \n",
    "    return Coefficient_yb_int"
   ]
  },
  {
   "cell_type": "markdown",
   "metadata": {},
   "source": [
    "# Set Local Functions"
   ]
  },
  {
   "cell_type": "code",
   "execution_count": 13,
   "metadata": {},
   "outputs": [],
   "source": [
    "def Mesh(Width,number_x,Height,number_y,thickness_vertical,thickness_horizontal):\n",
    "    Matrix_XY = np.zeros((10000,4))\n",
    "    Matrix_XX = np.zeros((10000,8))\n",
    "    Matrix_YY = np.zeros((10000,8)) \n",
    "    X0 = 0.0\n",
    "    Y0 = 0.0\n",
    "    ni = int(number_x+1)\n",
    "    nj = int(number_y+1)\n",
    "    dx = Width/number_x\n",
    "    dy = Height/number_y\n",
    "    k = -1\n",
    "    for i in range(0,ni):\n",
    "        for j in range(0,nj):\n",
    "            XC = X0+dx*(i)\n",
    "            YC = Y0+dy*(j)\n",
    "            if XC <= thickness_vertical or Width-thickness_vertical <= XC:\n",
    "                k = k+1\n",
    "                Matrix_XY[k,:] = np.array([XC,YC,i+1,j+1])\n",
    "            elif YC <= thickness_horizontal or Height-thickness_horizontal <= YC:\n",
    "                k = k+1\n",
    "                Matrix_XY[k,:] = np.array([XC,YC,i+1,j+1])  \n",
    "    Matrix_XY = Matrix_XY[0:k+1,:]\n",
    "    number_nodes = k+1\n",
    "    k = -1\n",
    "    for i in range(0,ni-1):\n",
    "        for j in range(0,nj-1):\n",
    "            X1 = X0+dx*(i)\n",
    "            X2 = X1+dx\n",
    "            X3 = X2\n",
    "            X4 = X1\n",
    "            Y1 = Y0+dy*(j)\n",
    "            Y2 = Y1\n",
    "            Y3 = Y1+dy\n",
    "            Y4 = Y3\n",
    "            if X2 <= thickness_vertical or Width-thickness_vertical <= X1:\n",
    "                k = k+1\n",
    "                Matrix_XX[k,:] = np.array([X1,X2,X3,X4,i+1,i+2,i+2,i+1])\n",
    "                Matrix_YY[k,:] = np.array([Y1,Y2,Y3,Y4,j+1,j+1,j+2,j+2])\n",
    "            elif Y3 <= thickness_horizontal or Height-thickness_horizontal <= Y1:\n",
    "                k = k+1\n",
    "                Matrix_XX[k,:] = np.array([X1,X2,X3,X4,i+1,i+2,i+2,i+1])\n",
    "                Matrix_YY[k,:] = np.array([Y1,Y2,Y3,Y4,j+1,j+1,j+2,j+2])\n",
    "    Matrix_XX = Matrix_XX[0:k+1,:]\n",
    "    Matrix_YY = Matrix_YY[0:k+1,:]\n",
    "    number_elements = k+1\n",
    "    return number_nodes, number_elements, Matrix_XY, Matrix_XX, Matrix_YY"
   ]
  },
  {
   "cell_type": "code",
   "execution_count": 14,
   "metadata": {},
   "outputs": [],
   "source": [
    "def Pos_Index(coordinate_i,coordinate_j,Matrix_XY,number_nodes):\n",
    "    for k in range(0,number_nodes):\n",
    "        if Matrix_XY[k,2] == coordinate_i and Matrix_XY[k,3] == coordinate_j:\n",
    "            break\n",
    "    return k"
   ]
  },
  {
   "cell_type": "code",
   "execution_count": 15,
   "metadata": {},
   "outputs": [],
   "source": [
    "def Pos_Matrix(Matrix_XY,number_nodes):\n",
    "    Matrix_Pos = np.zeros((number_nodes,5))\n",
    "    for k in range(0,number_nodes):\n",
    "        x = Matrix_XY[k,0]\n",
    "        y = Matrix_XY[k,1]\n",
    "        i = Matrix_XY[k,2]\n",
    "        j = Matrix_XY[k,3]\n",
    "        if x == W and 0 < y < H:\n",
    "            Matrix_Pos[k,0] = 0\n",
    "            Matrix_Pos[k,1] = Pos_Index(i-1,j,Matrix_XY,number_nodes)\n",
    "            Matrix_Pos[k,2] = Pos_Index(i,j+1,Matrix_XY,number_nodes)\n",
    "            Matrix_Pos[k,3] = Pos_Index(i,j-1,Matrix_XY,number_nodes)\n",
    "            Matrix_Pos[k,4] = Pos_Index(i,j,Matrix_XY,number_nodes)\n",
    "        elif x == 0 and 0 < y < H:\n",
    "            Matrix_Pos[k,0] = Pos_Index(i+1,j,Matrix_XY,number_nodes)\n",
    "            Matrix_Pos[k,1] = 0\n",
    "            Matrix_Pos[k,2] = Pos_Index(i,j+1,Matrix_XY,number_nodes)\n",
    "            Matrix_Pos[k,3] = Pos_Index(i,j-1,Matrix_XY,number_nodes)\n",
    "            Matrix_Pos[k,4] = Pos_Index(i,j,Matrix_XY,number_nodes)      \n",
    "        elif y == H and 0 < x < W:\n",
    "            Matrix_Pos[k,0] = Pos_Index(i+1,j,Matrix_XY,number_nodes)\n",
    "            Matrix_Pos[k,1] = Pos_Index(i-1,j,Matrix_XY,number_nodes)\n",
    "            Matrix_Pos[k,2] = 0\n",
    "            Matrix_Pos[k,3] = Pos_Index(i,j-1,Matrix_XY,number_nodes)\n",
    "            Matrix_Pos[k,4] = Pos_Index(i,j,Matrix_XY,number_nodes)    \n",
    "        elif y == 0 and 0 < x < W:\n",
    "            Matrix_Pos[k,0] = Pos_Index(i+1,j,Matrix_XY,number_nodes)\n",
    "            Matrix_Pos[k,1] = Pos_Index(i-1,j,Matrix_XY,number_nodes)\n",
    "            Matrix_Pos[k,2] = Pos_Index(i,j+1,Matrix_XY,number_nodes)\n",
    "            Matrix_Pos[k,3] = 0\n",
    "            Matrix_Pos[k,4] = Pos_Index(i,j,Matrix_XY,number_nodes)                 \n",
    "        elif x == W and y == H:\n",
    "            Matrix_Pos[k,0] = 0\n",
    "            Matrix_Pos[k,1] = Pos_Index(i-1,j,Matrix_XY,number_nodes)\n",
    "            Matrix_Pos[k,2] = 0\n",
    "            Matrix_Pos[k,3] = Pos_Index(i,j-1,Matrix_XY,number_nodes)\n",
    "            Matrix_Pos[k,4] = Pos_Index(i,j,Matrix_XY,number_nodes)              \n",
    "        elif x == W and y == 0:\n",
    "            Matrix_Pos[k,0] = 0\n",
    "            Matrix_Pos[k,1] = Pos_Index(i-1,j,Matrix_XY,number_nodes)\n",
    "            Matrix_Pos[k,2] = Pos_Index(i,j+1,Matrix_XY,number_nodes)\n",
    "            Matrix_Pos[k,3] = 0\n",
    "            Matrix_Pos[k,4] = Pos_Index(i,j,Matrix_XY,number_nodes) \n",
    "        elif x == 0 and y == H:\n",
    "            Matrix_Pos[k,0] = Pos_Index(i+1,j,Matrix_XY,number_nodes)\n",
    "            Matrix_Pos[k,1] = 0\n",
    "            Matrix_Pos[k,2] = 0\n",
    "            Matrix_Pos[k,3] = Pos_Index(i,j-1,Matrix_XY,number_nodes)\n",
    "            Matrix_Pos[k,4] = Pos_Index(i,j,Matrix_XY,number_nodes)   \n",
    "        elif x == 0 and y == 0:\n",
    "            Matrix_Pos[k,0] = Pos_Index(i+1,j,Matrix_XY,number_nodes)\n",
    "            Matrix_Pos[k,1] = 0\n",
    "            Matrix_Pos[k,2] = Pos_Index(i,j+1,Matrix_XY,number_nodes)\n",
    "            Matrix_Pos[k,3] = 0\n",
    "            Matrix_Pos[k,4] = Pos_Index(i,j,Matrix_XY,number_nodes)\n",
    "        elif x == tv and th < y < H-th:\n",
    "            Matrix_Pos[k,0] = 0\n",
    "            Matrix_Pos[k,1] = Pos_Index(i-1,j,Matrix_XY,number_nodes)\n",
    "            Matrix_Pos[k,2] = Pos_Index(i,j+1,Matrix_XY,number_nodes)\n",
    "            Matrix_Pos[k,3] = Pos_Index(i,j-1,Matrix_XY,number_nodes)\n",
    "            Matrix_Pos[k,4] = Pos_Index(i,j,Matrix_XY,number_nodes)      \n",
    "        elif x == W-tv and th < y < H-th:\n",
    "            Matrix_Pos[k,0] = Pos_Index(i+1,j,Matrix_XY,number_nodes)\n",
    "            Matrix_Pos[k,1] = 0\n",
    "            Matrix_Pos[k,2] = Pos_Index(i,j+1,Matrix_XY,number_nodes)\n",
    "            Matrix_Pos[k,3] = Pos_Index(i,j-1,Matrix_XY,number_nodes)\n",
    "            Matrix_Pos[k,4] = Pos_Index(i,j,Matrix_XY,number_nodes)   \n",
    "        elif y == th and tv < x < W-tv:\n",
    "            Matrix_Pos[k,0] = Pos_Index(i+1,j,Matrix_XY,number_nodes)\n",
    "            Matrix_Pos[k,1] = Pos_Index(i-1,j,Matrix_XY,number_nodes)\n",
    "            Matrix_Pos[k,2] = 0\n",
    "            Matrix_Pos[k,3] = Pos_Index(i,j-1,Matrix_XY,number_nodes)\n",
    "            Matrix_Pos[k,4] = Pos_Index(i,j,Matrix_XY,number_nodes)\n",
    "        elif y == H-th and tv < x < W-tv:\n",
    "            Matrix_Pos[k,0] = Pos_Index(i+1,j,Matrix_XY,number_nodes)\n",
    "            Matrix_Pos[k,1] = Pos_Index(i-1,j,Matrix_XY,number_nodes)\n",
    "            Matrix_Pos[k,2] = Pos_Index(i,j+1,Matrix_XY,number_nodes)\n",
    "            Matrix_Pos[k,3] = 0\n",
    "            Matrix_Pos[k,4] = Pos_Index(i,j,Matrix_XY,number_nodes)\n",
    "        elif x == tv and y == H-th:\n",
    "            Matrix_Pos[k,0] = Pos_Index(i+1,j,Matrix_XY,number_nodes)\n",
    "            Matrix_Pos[k,1] = Pos_Index(i-1,j,Matrix_XY,number_nodes)\n",
    "            Matrix_Pos[k,2] = Pos_Index(i,j+1,Matrix_XY,number_nodes)\n",
    "            Matrix_Pos[k,3] = Pos_Index(i,j-1,Matrix_XY,number_nodes)\n",
    "            Matrix_Pos[k,4] = Pos_Index(i,j,Matrix_XY,number_nodes)\n",
    "        elif x == W-tv and y == H-th:\n",
    "            Matrix_Pos[k,0] = Pos_Index(i+1,j,Matrix_XY,number_nodes)\n",
    "            Matrix_Pos[k,1] = Pos_Index(i-1,j,Matrix_XY,number_nodes)\n",
    "            Matrix_Pos[k,2] = Pos_Index(i,j+1,Matrix_XY,number_nodes)\n",
    "            Matrix_Pos[k,3] = Pos_Index(i,j-1,Matrix_XY,number_nodes)\n",
    "            Matrix_Pos[k,4] = Pos_Index(i,j,Matrix_XY,number_nodes)\n",
    "        elif x == tv and y == th:\n",
    "            Matrix_Pos[k,0] = Pos_Index(i+1,j,Matrix_XY,number_nodes)\n",
    "            Matrix_Pos[k,1] = Pos_Index(i-1,j,Matrix_XY,number_nodes)\n",
    "            Matrix_Pos[k,2] = Pos_Index(i,j+1,Matrix_XY,number_nodes)\n",
    "            Matrix_Pos[k,3] = Pos_Index(i,j-1,Matrix_XY,number_nodes)\n",
    "            Matrix_Pos[k,4] = Pos_Index(i,j,Matrix_XY,number_nodes)\n",
    "        elif x == W-tv and y == th:\n",
    "            Matrix_Pos[k,0] = Pos_Index(i+1,j,Matrix_XY,number_nodes)\n",
    "            Matrix_Pos[k,1] = Pos_Index(i-1,j,Matrix_XY,number_nodes)\n",
    "            Matrix_Pos[k,2] = Pos_Index(i,j+1,Matrix_XY,number_nodes)\n",
    "            Matrix_Pos[k,3] = Pos_Index(i,j-1,Matrix_XY,number_nodes)\n",
    "            Matrix_Pos[k,4] = Pos_Index(i,j,Matrix_XY,number_nodes)\n",
    "        else:\n",
    "            Matrix_Pos[k,0] = Pos_Index(i+1,j,Matrix_XY,number_nodes)\n",
    "            Matrix_Pos[k,1] = Pos_Index(i-1,j,Matrix_XY,number_nodes)\n",
    "            Matrix_Pos[k,2] = Pos_Index(i,j+1,Matrix_XY,number_nodes)\n",
    "            Matrix_Pos[k,3] = Pos_Index(i,j-1,Matrix_XY,number_nodes)\n",
    "            Matrix_Pos[k,4] = Pos_Index(i,j,Matrix_XY,number_nodes)\n",
    "    return Matrix_Pos"
   ]
  },
  {
   "cell_type": "code",
   "execution_count": 16,
   "metadata": {},
   "outputs": [],
   "source": [
    "def ColorMatrix(number_points):\n",
    "    Matrix_Color=np.zeros((number_points,3))\n",
    "    for i in range(0,number_points):\n",
    "        if i == 0:\n",
    "            Matrix_Color[0,:]=[0.0,0.0,0.0]\n",
    "        elif i == 1:\n",
    "            Matrix_Color[1,:]=[1.0,0.0,0.0]\n",
    "        elif i == 2:\n",
    "            Matrix_Color[2,:]=[0.0,1.0,0.0]\n",
    "        elif i == 3:\n",
    "            Matrix_Color[3,:]=[0.0,0.0,1.0]\n",
    "        elif i == 4:\n",
    "            Matrix_Color[4,:]=[0.0,1.0,1.0]\n",
    "        elif i == 5:\n",
    "            Matrix_Color[5,:]=[1.0,0.0,1.0]\n",
    "        elif i == 6:\n",
    "            Matrix_Color[6,:]=[1.0,1.0,0.0]\n",
    "        else:\n",
    "            Matrix_Color[i,:]=np.random.rand(3)\n",
    "    return Matrix_Color"
   ]
  },
  {
   "cell_type": "code",
   "execution_count": 17,
   "metadata": {},
   "outputs": [],
   "source": [
    "def LabelList(listnodes):\n",
    "    number_selected_nodes=len(listnodes)\n",
    "    for i in range(0,number_selected_nodes+1):\n",
    "        if i == 0:\n",
    "            Matrix_Label=['Average']\n",
    "        else:\n",
    "            Matrix_Label.append('Node'+str(listnodes[i-1]))\n",
    "    return Matrix_Label "
   ]
  },
  {
   "cell_type": "markdown",
   "metadata": {},
   "source": [
    "# Finite Difference Method"
   ]
  },
  {
   "cell_type": "code",
   "execution_count": 18,
   "metadata": {},
   "outputs": [],
   "source": [
    "start = tm.time()"
   ]
  },
  {
   "cell_type": "code",
   "execution_count": 19,
   "metadata": {},
   "outputs": [],
   "source": [
    "dx = W/nx\n",
    "dy = H/ny"
   ]
  },
  {
   "cell_type": "code",
   "execution_count": 20,
   "metadata": {},
   "outputs": [],
   "source": [
    "npt, nel, XY, XX, YY = Mesh(W,nx,H,ny,tv,th)"
   ]
  },
  {
   "cell_type": "code",
   "execution_count": 21,
   "metadata": {},
   "outputs": [],
   "source": [
    "PM = Pos_Matrix(XY,npt)"
   ]
  },
  {
   "cell_type": "code",
   "execution_count": 22,
   "metadata": {},
   "outputs": [],
   "source": [
    "UT = np.zeros((npt,Nrow),dtype='float64')\n",
    "UT0 = np.zeros(npt,dtype='float64')\n",
    "UT1 = np.zeros(npt,dtype='float64')\n",
    "UTP = np.zeros(npt,dtype='float64')\n",
    "iteration = np.zeros(Nrow,dtype=int)"
   ]
  },
  {
   "cell_type": "code",
   "execution_count": 23,
   "metadata": {},
   "outputs": [],
   "source": [
    "for t in range(0,Nrow-1):\n",
    "    if t == 0:\n",
    "        iteration[t] = 0\n",
    "        for i in range(0,npt):\n",
    "            UT[i,t] = Moisture_0\n",
    "    UT0 = UT[:,t]\n",
    "    UT[:,t+1] = UT0\n",
    "    for p in range(0,100):    \n",
    "        A = np.zeros((npt,npt),dtype='float64')\n",
    "        B = np.zeros(npt,dtype='float64')\n",
    "        for k in range(0,npt):\n",
    "            x = XY[k,0]\n",
    "            y = XY[k,1]\n",
    "            a = np.zeros(npt,dtype='float64')\n",
    "            P1 = int(PM[k,0])\n",
    "            P2 = int(PM[k,1])\n",
    "            P3 = int(PM[k,2])\n",
    "            P4 = int(PM[k,3])\n",
    "            P5 = int(PM[k,4]) \n",
    "            if x == W and 0 < y < H:\n",
    "                C2 = (Diffx(UT[P5,t+1])+Diffx(UT[P2,t+1]))/2\n",
    "                C3 = (Diffy(UT[P5,t+1])+Diffy(UT[P3,t+1]))/2\n",
    "                C4 = (Diffy(UT[P5,t+1])+Diffy(UT[P4,t+1]))/2\n",
    "                a[P2] = -2*DT*C2/dx**2\n",
    "                a[P3] = -DT*C3/dy**2\n",
    "                a[P4] = -DT*C4/dy**2\n",
    "                a[P5] = 1+2*DT*C2/dx**2+DT*C3/dy**2+DT*C4/dy**2+2*DT*Sxr_ext(UT[P5,t+1])/dx\n",
    "                constant = -2*DT*Sxr_ext(UT[P5,t+1])/dx*UHum_ext[t+1]\n",
    "            elif x == 0 and 0 < y < H:\n",
    "                C1 = (Diffx(UT[P5,t+1])+Diffx(UT[P1,t+1]))/2\n",
    "                C3 = (Diffy(UT[P5,t+1])+Diffy(UT[P3,t+1]))/2\n",
    "                C4 = (Diffy(UT[P5,t+1])+Diffy(UT[P4,t+1]))/2\n",
    "                a[P1] = -2*DT*C1/dx**2\n",
    "                a[P3] = -DT*C3/dy**2\n",
    "                a[P4] = -DT*C4/dy**2\n",
    "                a[P5] = 1+2*DT*C1/dx**2+DT*C3/dy**2+DT*C4/dy**2+2*DT*Sxl_ext(UT[P5,t+1])/dx\n",
    "                constant = -2*DT*Sxl_ext(UT[P5,t+1])/dx*UHum_ext[t+1]        \n",
    "            elif y == H and 0 < x < W:\n",
    "                C1 = (Diffx(UT[P5,t+1])+Diffx(UT[P1,t+1]))/2\n",
    "                C2 = (Diffx(UT[P5,t+1])+Diffx(UT[P2,t+1]))/2\n",
    "                C4 = (Diffy(UT[P5,t+1])+Diffy(UT[P4,t+1]))/2\n",
    "                a[P1] = -DT*C1/dx**2\n",
    "                a[P2] = -DT*C2/dx**2\n",
    "                a[P4] = -2*DT*C4/dy**2\n",
    "                a[P5] = 1+DT*C1/dx**2+DT*C2/dx**2+2*DT*C4/dy**2+2*DT*Syt_ext(UT[P5,t+1])/dy\n",
    "                constant = -2*DT*Syt_ext(UT[P5,t+1])/dy*UHum_ext[t+1]        \n",
    "            elif y == 0 and 0 < x < W:\n",
    "                C1 = (Diffx(UT[P5,t+1])+Diffx(UT[P1,t+1]))/2\n",
    "                C2 = (Diffx(UT[P5,t+1])+Diffx(UT[P2,t+1]))/2\n",
    "                C3 = (Diffy(UT[P5,t+1])+Diffy(UT[P3,t+1]))/2\n",
    "                a[P1] = -DT*C1/dx**2\n",
    "                a[P2] = -DT*C2/dx**2\n",
    "                a[P3] = -2*DT*C3/dy**2\n",
    "                a[P5] = 1+DT*C1/dx**2+DT*C2/dx**2+2*DT*C3/dy**2+2*DT*Syb_ext(UT[P5,t+1])/dy\n",
    "                constant = -2*DT*Syb_ext(UT[P5,t+1])/dy*UHum_ext[t+1]                \n",
    "            elif x == W and y == H:\n",
    "                C2 = (Diffx(UT[P5,t+1])+Diffx(UT[P2,t+1]))/2\n",
    "                C4 = (Diffy(UT[P5,t+1])+Diffy(UT[P4,t+1]))/2\n",
    "                a[P2] = -2*DT*C2/dx**2\n",
    "                a[P4] = -2*DT*C4/dy**2\n",
    "                a[P5] = 1+2*DT*C2/dx**2+2*DT*C4/dy**2+2*DT*Sxr_ext(UT[P5,t+1])/dx+2*DT*Syt_ext(UT[P5,t+1])/dy\n",
    "                constant = -(2*DT*Sxr_ext(UT[P5,t+1])/dx+2*DT*Syt_ext(UT[P5,t+1])/dy)*UHum_ext[t+1]               \n",
    "            elif x == W and y == 0:\n",
    "                C2 = (Diffx(UT[P5,t+1])+Diffx(UT[P2,t+1]))/2\n",
    "                C3 = (Diffy(UT[P5,t+1])+Diffy(UT[P3,t+1]))/2\n",
    "                a[P2] = -2*DT*C2/dx**2\n",
    "                a[P3] = -2*DT*C3/dy**2\n",
    "                a[P5] = 1+2*DT*C2/dx**2+2*DT*C3/dy**2+2*DT*Sxr_ext(UT[P5,t+1])/dx+2*DT*Syb_ext(UT[P5,t+1])/dy\n",
    "                constant = -(2*DT*Sxr_ext(UT[P5,t+1])/dx+2*DT*Syb_ext(UT[P5,t+1])/dy)*UHum_ext[t+1]  \n",
    "            elif x == 0 and y == H:\n",
    "                C1 = (Diffx(UT[P5,t+1])+Diffx(UT[P1,t+1]))/2\n",
    "                C4 = (Diffy(UT[P5,t+1])+Diffy(UT[P4,t+1]))/2\n",
    "                a[P1] = -2*DT*C1/dx**2\n",
    "                a[P4] = -2*DT*C4/dy**2\n",
    "                a[P5] = 1+2*DT*C1/dx**2+2*DT*C4/dy**2+2*DT*Sxl_ext(UT[P5,t+1])/dx+2*DT*Syt_ext(UT[P5,t+1])/dy\n",
    "                constant = -(2*DT*Sxl_ext(UT[P5,t+1])/dx+2*DT*Syt_ext(UT[P5,t+1])/dy)*UHum_ext[t+1]  \n",
    "            elif x == 0 and y == 0:\n",
    "                C1 = (Diffx(UT[P5,t+1])+Diffx(UT[P1,t+1]))/2\n",
    "                C3 = (Diffy(UT[P5,t+1])+Diffy(UT[P3,t+1]))/2\n",
    "                a[P1] = -2*DT*C1/dx**2\n",
    "                a[P3] = -2*DT*C3/dy**2\n",
    "                a[P5] = 1+2*DT*C1/dx**2+2*DT*C3/dy**2+2*DT*Sxl_ext(UT[P5,t+1])/dx+2*DT*Syb_ext(UT[P5,t+1])/dy\n",
    "                constant = -(2*DT*Sxl_ext(UT[P5,t+1])/dx+2*DT*Syb_ext(UT[P5,t+1])/dy)*UHum_ext[t+1]\n",
    "            elif x == tv and th < y < H-th:\n",
    "                C2 = (Diffx(UT[P5,t+1])+Diffx(UT[P2,t+1]))/2\n",
    "                C3 = (Diffy(UT[P5,t+1])+Diffy(UT[P3,t+1]))/2\n",
    "                C4 = (Diffy(UT[P5,t+1])+Diffy(UT[P4,t+1]))/2\n",
    "                a[P2] = -2*DT*C2/dx**2\n",
    "                a[P3] = -DT*C3/dy**2\n",
    "                a[P4] = -DT*C4/dy**2\n",
    "                a[P5] = 1+2*DT*C2/dx**2+DT*C3/dy**2+DT*C4/dy**2+2*DT*Sxl_int(UT[P5,t+1])/dx\n",
    "                constant = -2*DT*Sxl_int(UT[P5,t+1])/dx*UHum_int[t+1] \n",
    "            elif x == W-tv and th < y < H-th:\n",
    "                C1 = (Diffx(UT[P5,t+1])+Diffx(UT[P1,t+1]))/2\n",
    "                C3 = (Diffy(UT[P5,t+1])+Diffy(UT[P3,t+1]))/2\n",
    "                C4 = (Diffy(UT[P5,t+1])+Diffy(UT[P4,t+1]))/2\n",
    "                a[P1] = -2*DT*C1/dx**2\n",
    "                a[P3] = -DT*C3/dy**2\n",
    "                a[P4] = -DT*C4/dy**2\n",
    "                a[P5] = 1+2*DT*C1/dx**2+DT*C3/dy**2+DT*C4/dy**2+2*DT*Sxr_int(UT[P5,t+1])/dx\n",
    "                constant = -2*DT*Sxr_int(UT[P5,t+1])/dx*UHum_int[t+1] \n",
    "            elif y == th and tv < x < W-tv:\n",
    "                C1 = (Diffx(UT[P5,t+1])+Diffx(UT[P1,t+1]))/2\n",
    "                C2 = (Diffx(UT[P5,t+1])+Diffx(UT[P2,t+1]))/2\n",
    "                C4 = (Diffy(UT[P5,t+1])+Diffy(UT[P4,t+1]))/2\n",
    "                a[P1] = -DT*C1/dx**2\n",
    "                a[P2] = -DT*C2/dx**2\n",
    "                a[P4] = -2*DT*C4/dy**2\n",
    "                a[P5] = 1+DT*C1/dx**2+DT*C2/dx**2+2*DT*C4/dy**2+2*DT*Syb_int(UT[P5,t+1])/dx\n",
    "                constant = -2*DT*Syb_int(UT[P5,t+1])/dy*UHum_int[t+1]           \n",
    "            elif y == H-th and tv < x < W-tv:\n",
    "                C1 = (Diffx(UT[P5,t+1])+Diffx(UT[P1,t+1]))/2\n",
    "                C2 = (Diffx(UT[P5,t+1])+Diffx(UT[P2,t+1]))/2\n",
    "                C3 = (Diffy(UT[P5,t+1])+Diffy(UT[P3,t+1]))/2\n",
    "                a[P1] = -DT*C1/dx**2\n",
    "                a[P2] = -DT*C2/dx**2\n",
    "                a[P3] = -2*DT*C3/dy**2\n",
    "                a[P5] = 1+DT*C1/dx**2+DT*C2/dx**2+2*DT*C3/dy**2+2*DT*Syt_int(UT[P5,t+1])/dx\n",
    "                constant = -2*DT*Syt_int(UT[P5,t+1])/dy*UHum_int[t+1]               \n",
    "            elif x == tv and y == H-th:\n",
    "                C1 = (Diffx(UT[P5,t+1])+Diffx(UT[P1,t+1]))/2\n",
    "                C2 = (Diffx(UT[P5,t+1])+Diffx(UT[P2,t+1]))/2\n",
    "                C3 = (Diffy(UT[P5,t+1])+Diffy(UT[P3,t+1]))/2\n",
    "                C4 = (Diffy(UT[P5,t+1])+Diffy(UT[P4,t+1]))/2\n",
    "                a[P1] = -2/3*DT*C1/dx**2\n",
    "                a[P2] = -4/3*DT*C2/dx**2\n",
    "                a[P3] = -4/3*DT*C3/dy**2\n",
    "                a[P4] = -2/3*DT*C4/dy**2\n",
    "                a[P5] = 1+2/3*DT*C1/dx**2+4/3*DT*C2/dx**2+4/3*DT*C3/dy**2+2/3*DT*C4/dy**2+2/3*DT*Sxl_int(UT[P5,t+1])/dx+2/3*DT*Syt_int(UT[P5,t+1])/dy\n",
    "                constant = -(2/3*DT*Sxl_int(UT[P5,t+1])/dx+2/3*DT*Syt_int(UT[P5,t+1])/dy)*UHum_int[t+1]         \n",
    "            elif x == W-tv and y == H-th:\n",
    "                C1 = (Diffx(UT[P5,t+1])+Diffx(UT[P1,t+1]))/2\n",
    "                C2 = (Diffx(UT[P5,t+1])+Diffx(UT[P2,t+1]))/2\n",
    "                C3 = (Diffy(UT[P5,t+1])+Diffy(UT[P3,t+1]))/2\n",
    "                C4 = (Diffy(UT[P5,t+1])+Diffy(UT[P4,t+1]))/2\n",
    "                a[P1] = -4/3*DT*C1/dx**2\n",
    "                a[P2] = -2/3*DT*C2/dx**2\n",
    "                a[P3] = -4/3*DT*C3/dy**2\n",
    "                a[P4] = -2/3*DT*C4/dy**2\n",
    "                a[P5] = 1+4/3*DT*C1/dx**2+2/3*DT*C2/dx**2+4/3*DT*C3/dy**2+2/3*DT*C4/dy**2+2/3*DT*Sxr_int(UT[P5,t+1])/dx+2/3*DT*Syt_int(UT[P5,t+1])/dy\n",
    "                constant = -(2/3*DT*Sxr_int(UT[P5,t+1])/dx+2/3*DT*Syt_int(UT[P5,t+1])/dy)*UHum_int[t+1]              \n",
    "            elif x == tv and y == th:\n",
    "                C1 = (Diffx(UT[P5,t+1])+Diffx(UT[P1,t+1]))/2\n",
    "                C2 = (Diffx(UT[P5,t+1])+Diffx(UT[P2,t+1]))/2\n",
    "                C3 = (Diffy(UT[P5,t+1])+Diffy(UT[P3,t+1]))/2\n",
    "                C4 = (Diffy(UT[P5,t+1])+Diffy(UT[P4,t+1]))/2\n",
    "                a[P1] = -2/3*DT*C1/dx**2\n",
    "                a[P2] = -4/3*DT*C2/dx**2\n",
    "                a[P3] = -2/3*DT*C3/dy**2\n",
    "                a[P4] = -4/3*DT*C4/dy**2\n",
    "                a[P5] = 1+2/3*DT*C1/dx**2+4/3*DT*C2/dx**2+2/3*DT*C3/dy**2+4/3*DT*C4/dy**2+2/3*DT*Sxl_int(UT[P5,t+1])/dx+2/3*DT*Syb_int(UT[P5,t+1])/dy\n",
    "                constant = -(2/3*DT*Sxl_int(UT[P5,t+1])/dx+2/3*DT*Syb_int(UT[P5,t+1])/dy)*UHum_int[t+1]                \n",
    "            elif x == W-tv and y == th:\n",
    "                C1 = (Diffx(UT[P5,t+1])+Diffx(UT[P1,t+1]))/2\n",
    "                C2 = (Diffx(UT[P5,t+1])+Diffx(UT[P2,t+1]))/2\n",
    "                C3 = (Diffy(UT[P5,t+1])+Diffy(UT[P3,t+1]))/2\n",
    "                C4 = (Diffy(UT[P5,t+1])+Diffy(UT[P4,t+1]))/2\n",
    "                a[P1] = -4/3*DT*C1/dx**2\n",
    "                a[P2] = -2/3*DT*C2/dx**2\n",
    "                a[P3] = -2/3*DT*C3/dy**2\n",
    "                a[P4] = -4/3*DT*C4/dy**2\n",
    "                a[P5] = 1+4/3*DT*C1/dx**2+2/3*DT*C2/dx**2+2/3*DT*C3/dy**2+4/3*DT*C4/dy**2+2/3*DT*Sxr_int(UT[P5,t+1])/dx+2/3*DT*Syb_int(UT[P5,t+1])/dy\n",
    "                constant = -(2/3*DT*Sxr_int(UT[P5,t+1])/dx+2/3*DT*Syb_int(UT[P5,t+1])/dy)*UHum_int[t+1]      \n",
    "            else:\n",
    "                C1 = (Diffx(UT[P5,t+1])+Diffx(UT[P1,t+1]))/2\n",
    "                C2 = (Diffx(UT[P5,t+1])+Diffx(UT[P2,t+1]))/2\n",
    "                C3 = (Diffy(UT[P5,t+1])+Diffy(UT[P3,t+1]))/2\n",
    "                C4 = (Diffy(UT[P5,t+1])+Diffy(UT[P4,t+1]))/2\n",
    "                a[P1] = -DT*C1/dx**2\n",
    "                a[P2] = -DT*C2/dx**2\n",
    "                a[P3] = -DT*C3/dy**2\n",
    "                a[P4] = -DT*C4/dy**2\n",
    "                a[P5] = 1+DT*C1/dx**2+DT*C2/dx**2+DT*C3/dy**2+DT*C4/dy**2\n",
    "                constant = 0\n",
    "                \n",
    "            A[k,:] = a\n",
    "            B[k] = constant\n",
    "    \n",
    "        UTP = UT[:,t+1]  \n",
    "        UT1 = np.linalg.solve(A,UT0-B)\n",
    "        UT[:,t+1] = UT1\n",
    "        error = np.amax(np.absolute((UT1-UTP)/UTP))\n",
    "        if error < 0.000001:\n",
    "            break\n",
    "    \n",
    "    iteration[t+1] = p+1"
   ]
  },
  {
   "cell_type": "code",
   "execution_count": 24,
   "metadata": {},
   "outputs": [],
   "source": [
    "end = tm.time()"
   ]
  },
  {
   "cell_type": "code",
   "execution_count": 25,
   "metadata": {},
   "outputs": [],
   "source": [
    "Compution_time = end-start"
   ]
  },
  {
   "cell_type": "code",
   "execution_count": 26,
   "metadata": {},
   "outputs": [
    {
     "name": "stdout",
     "output_type": "stream",
     "text": [
      "16.40113854408264\n"
     ]
    }
   ],
   "source": [
    "print(Compution_time)"
   ]
  },
  {
   "cell_type": "markdown",
   "metadata": {},
   "source": [
    "# Output Data"
   ]
  },
  {
   "cell_type": "code",
   "execution_count": 27,
   "metadata": {},
   "outputs": [],
   "source": [
    "TimeH = np.zeros((Nrow,1))\n",
    "for i in range(0,Nrow):\n",
    "    TimeH[i] = TimeD[i]*24"
   ]
  },
  {
   "cell_type": "code",
   "execution_count": 28,
   "metadata": {},
   "outputs": [],
   "source": [
    "Timemax=np.amax(TimeH)\n",
    "Timemin=np.amin(TimeH)\n",
    "TCmax_ext=np.amax(TempC_ext)\n",
    "TCmin_ext=np.amin(TempC_ext)\n",
    "TCmax_int=np.amax(TempC_int)\n",
    "TCmin_int=np.amin(TempC_int)\n",
    "TCmax=np.maximum(TCmax_ext,TCmax_int)\n",
    "TCmin=np.minimum(TCmin_ext,TCmin_int)\n",
    "RHmax_ext=np.amax(RHum_ext)\n",
    "RHmin_ext=np.amin(RHum_ext)\n",
    "RHmax_int=np.amax(RHum_int)\n",
    "RHmin_int=np.amin(RHum_int)\n",
    "RHmax=np.maximum(RHmax_ext,RHmax_int)\n",
    "RHmin=np.minimum(RHmin_ext,RHmin_int)\n",
    "UTmax=np.amax(UT)\n",
    "UTmin=np.amin(UT)"
   ]
  },
  {
   "cell_type": "code",
   "execution_count": 29,
   "metadata": {},
   "outputs": [
    {
     "data": {
      "image/png": "[encoded data removed]",
      "text/plain": [
       "<Figure size 1440x1080 with 1 Axes>"
      ]
     },
     "metadata": {
      "needs_background": "light"
     },
     "output_type": "display_data"
    }
   ],
   "source": [
    "plt.figure(1,figsize=(20.0,15.0))\n",
    "for k in range(0,nel):\n",
    "    plt.fill(XX[k,0:4],YY[k,0:4],facecolor=(0.0,1.0,1.0),edgecolor='black')\n",
    "for k in range(0,npt):\n",
    "    plt.plot(XY[k,0],XY[k,1],marker='o',color='black')\n",
    "    plt.text(XY[k,0]+dx/8,XY[k,1]+dy/8,str(k+1),fontsize=10)\n",
    "plt.axis('equal')\n",
    "plt.axis('off')\n",
    "plt.show()"
   ]
  },
  {
   "cell_type": "code",
   "execution_count": 30,
   "metadata": {},
   "outputs": [],
   "source": [
    "UTaverage = np.zeros((Nrow,1))\n",
    "for t in range(0,Nrow):\n",
    "    UTaverage[t] = sum(UT[:,t])/npt"
   ]
  },
  {
   "cell_type": "code",
   "execution_count": 31,
   "metadata": {},
   "outputs": [
    {
     "name": "stdout",
     "output_type": "stream",
     "text": [
      "Enter the total number of nodes: 1\n",
      "Enter the number label of the node: 5\n"
     ]
    }
   ],
   "source": [
    "nnodes = int(input(\"Enter the total number of nodes: \"))\n",
    "lnodes = np.array([],int)\n",
    "for i in range(nnodes):\n",
    "    lnodes = np.append(lnodes,int(input(\"Enter the number label of the node: \")))"
   ]
  },
  {
   "cell_type": "code",
   "execution_count": 32,
   "metadata": {},
   "outputs": [],
   "source": [
    "MMC = np.zeros((Nrow,nnodes+1))\n",
    "for t in range(0,Nrow):\n",
    "    MMC[t,0] = UTaverage[t]\n",
    "for i in range(0,nnodes):\n",
    "    for t in range(0,Nrow):\n",
    "        MMC[t,i+1] = UT[lnodes[i]-1,t]"
   ]
  },
  {
   "cell_type": "code",
   "execution_count": 33,
   "metadata": {},
   "outputs": [
    {
     "data": {
      "image/png": "[encoded data removed]",
      "text/plain": [
       "<Figure size 864x648 with 2 Axes>"
      ]
     },
     "metadata": {
      "needs_background": "light"
     },
     "output_type": "display_data"
    }
   ],
   "source": [
    "fig,ax1 = plt.subplots(figsize=(12.0,9.0))\n",
    "ax2 = ax1.twinx()\n",
    "ColorIndex=ColorMatrix(nnodes+1)            \n",
    "LabelIndex=LabelList(lnodes)\n",
    "for i in range(0,nnodes+1):\n",
    "    ax1.plot(TimeH,MMC[:,i],color=ColorIndex[i,:],linestyle='solid',linewidth=2,label=LabelIndex[i])\n",
    "ax2.plot(TimeH,RHum_ext,color='r',linestyle='dashed',linewidth=1,label='RH-EXT')\n",
    "ax2.plot(TimeH,RHum_int,color='r',linestyle='dashed',linewidth=1,label='RH-INT')\n",
    "ax1.set_xlabel('Time (hours)')\n",
    "ax1.set_xlim(Timemin,Timemax)\n",
    "ax1.set_ylabel('Moisture Content',color='k')\n",
    "ax1.set_ylim(UTmin,UTmax)\n",
    "ax2.set_ylabel('Relative Humidity (%)',color='k')\n",
    "ax2.set_ylim(0.5*RHmin,1.5*RHmax)\n",
    "# ax2.set_ylabel('Temperature (°C)',color='k')\n",
    "# ax2.set_ylim(0.5*TCmin,1.5*TCmax)\n",
    "ax1.legend(loc='upper right')\n",
    "ax2.legend(loc='upper left')\n",
    "plt.show()"
   ]
  },
  {
   "cell_type": "markdown",
   "metadata": {},
   "source": [
    "# Writing Output Data to a File"
   ]
  },
  {
   "cell_type": "code",
   "execution_count": 34,
   "metadata": {},
   "outputs": [],
   "source": [
    "listallnodes = np.arange(1,npt+1,1)\n",
    "LabelAllIndex = LabelList(listallnodes)\n",
    "MMCAll = np.zeros((Nrow,npt+1))\n",
    "for t in range(0,Nrow):\n",
    "    MMCAll[t,0] = UTaverage[t]\n",
    "for i in range(0,npt):\n",
    "    for t in range(0,Nrow):\n",
    "        MMCAll[t,i+1] = UT[listallnodes[i]-1,t]"
   ]
  },
  {
   "cell_type": "code",
   "execution_count": 35,
   "metadata": {},
   "outputs": [],
   "source": [
    "OUT1 = 'Time'\n",
    "OUT2 = LabelAllIndex\n",
    "OUT3 = np.append(OUT1,OUT2)\n",
    "OUT4 = TimeH\n",
    "OUT5 = MMCAll\n",
    "OUT6 = np.column_stack((OUT4,OUT5))\n",
    "result1 = pd.DataFrame([OUT3])\n",
    "result2 = pd.DataFrame(OUT6)\n",
    "result = result1.append(result2)\n",
    "writer = pd.ExcelWriter('Hollow_Implicit_Results.xlsx',engine='xlsxwriter')\n",
    "result.to_excel(writer,sheet_name='Moisture_Content_Matrix',index=False,header=False)\n",
    "writer.save()"
   ]
  },
  {
   "cell_type": "code",
   "execution_count": null,
   "metadata": {},
   "outputs": [],
   "source": []
  }
 ],
 "metadata": {
  "kernelspec": {
   "display_name": "Python 3",
   "language": "python",
   "name": "python3"
  },
  "language_info": {
   "codemirror_mode": {
    "name": "ipython",
    "version": 3
   },
   "file_extension": ".py",
   "mimetype": "text/x-python",
   "name": "python",
   "nbconvert_exporter": "python",
   "pygments_lexer": "ipython3",
   "version": "3.7.6"
  }
 },
 "nbformat": 4,
 "nbformat_minor": 4
}
